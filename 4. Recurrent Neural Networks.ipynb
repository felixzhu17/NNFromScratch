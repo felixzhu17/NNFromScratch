{
 "cells": [
  {
   "cell_type": "code",
   "execution_count": 14,
   "metadata": {},
   "outputs": [],
   "source": [
    "import numpy as np\n",
    "import pandas as pd\n",
    "from sklearn.preprocessing import MinMaxScaler\n",
    "\n",
    "class RecurrentNeuralNetwork:\n",
    "    def __init__(self, input_size, hidden_size, output_size):\n",
    "        np.random.seed(42)\n",
    "        self.Wx = np.random.randn(hidden_size, input_size) * np.sqrt(2 / (input_size + hidden_size))\n",
    "        self.Wh = np.random.randn(hidden_size, hidden_size) * np.sqrt(1 / hidden_size)\n",
    "        self.Wy = np.random.randn(output_size, hidden_size) * np.sqrt(2 / (hidden_size + output_size))\n",
    "        self.bh = np.zeros((hidden_size, 1))\n",
    "        self.by = np.zeros((output_size, 1))\n",
    "\n",
    "    def sigmoid(self, x):\n",
    "        return 1 / (1 + np.exp(-x))\n",
    "\n",
    "    def forward(self, x, h_prev):\n",
    "        h = np.tanh(self.Wx @ x + self.Wh @ h_prev + self.bh)\n",
    "        y = self.sigmoid(self.Wy @ h + self.by)\n",
    "        return y, h\n",
    "    \n",
    "    def sigmoid_derivative(self, x):\n",
    "        return x * (1 - x)\n",
    "\n",
    "    def tanh_derivative(self, x):\n",
    "        return 1 - x ** 2\n",
    "\n",
    "    def backward(self, x, h_prev, y_true, y_pred, h_hist, learning_rate):\n",
    "        dWy = np.zeros_like(self.Wy)\n",
    "        dby = np.zeros_like(self.by)\n",
    "\n",
    "        dh_next = np.zeros_like(h_prev)\n",
    "        dWh = np.zeros_like(self.Wh)\n",
    "        dWx = np.zeros_like(self.Wx)\n",
    "        dbh = np.zeros_like(self.bh)\n",
    "\n",
    "        for t in reversed(range(len(x))):\n",
    "            dy = (y_pred[t] - y_true[t]) * self.sigmoid_derivative(y_pred[t])\n",
    "            dWy += dy @ h_hist[t].T\n",
    "            dby += dy\n",
    "\n",
    "            dh = (self.Wy.T @ dy) + dh_next\n",
    "            dh_raw = dh * self.tanh_derivative(h_hist[t])\n",
    "            dWh += dh_raw @ (h_hist[t - 1] if t > 0 else h_prev).T\n",
    "            dWx += dh_raw @ x[t].reshape(-1, 1).T\n",
    "            dbh += dh_raw\n",
    "            dh_next = self.Wh.T @ dh_raw\n",
    "\n",
    "        self.Wy -= learning_rate * dWy\n",
    "        self.by -= learning_rate * dby\n",
    "        self.Wh -= learning_rate * dWh\n",
    "        self.Wx -= learning_rate * dWx\n",
    "        self.bh -= learning_rate * dbh\n",
    "\n",
    "\n",
    "input_size, hidden_size, output_size = 1, 5, 1\n",
    "self = RecurrentNeuralNetwork(input_size, hidden_size, output_size)\n"
   ]
  },
  {
   "cell_type": "code",
   "execution_count": 15,
   "metadata": {},
   "outputs": [],
   "source": [
    "# Parameter split_percent defines the ratio of training examples\n",
    "def get_train_test(url, split_percent=0.8):\n",
    "    df = pd.read_csv(url, usecols=[1], engine='python')\n",
    "    data = np.array(df.values.astype('float32'))\n",
    "    scaler = MinMaxScaler(feature_range=(0, 1))\n",
    "    data = scaler.fit_transform(data).flatten()\n",
    "    n = len(data)\n",
    "    # Point for splitting data into train and test\n",
    "    split = int(n*split_percent)\n",
    "    train_data = data[range(split)]\n",
    "    test_data = data[split:]\n",
    "    return train_data, test_data, data\n",
    " \n",
    "sunspots_url = 'https://raw.githubusercontent.com/jbrownlee/Datasets/master/monthly-sunspots.csv'\n",
    "train_data, test_data, data = get_train_test(sunspots_url)"
   ]
  },
  {
   "cell_type": "code",
   "execution_count": 16,
   "metadata": {},
   "outputs": [
    {
     "name": "stdout",
     "output_type": "stream",
     "text": [
      "Epoch 0, Loss: 400119.37406021985\n",
      "Epoch 100, Loss: 954878.8294869354\n",
      "Epoch 200, Loss: 955155.3422559198\n"
     ]
    }
   ],
   "source": [
    "num_epochs = 1000\n",
    "learning_rate = 0.01\n",
    "\n",
    "x = train_data[:-1]  # Input data\n",
    "y_true = train_data[1:]  # Target data\n",
    "\n",
    "h_prev = np.zeros((hidden_size, 1))\n",
    "\n",
    "for epoch in range(num_epochs):\n",
    "    y_pred, h_hist = [], [h_prev]\n",
    "    for t in range(len(x)):\n",
    "        y_t, h_t = self.forward(x[t].reshape(-1, 1), h_hist[-1])\n",
    "        y_pred.append(y_t)\n",
    "        h_hist.append(h_t)\n",
    "    y_pred = np.array(y_pred)\n",
    "\n",
    "    self.backward(x, h_prev, y_true, y_pred, h_hist, learning_rate)\n",
    "\n",
    "    if epoch % 100 == 0:\n",
    "        loss = 0.5 * np.sum((y_true - y_pred) ** 2)\n",
    "        print(f\"Epoch {epoch}, Loss: {loss}\")\n"
   ]
  },
  {
   "cell_type": "code",
   "execution_count": 4,
   "metadata": {},
   "outputs": [
    {
     "data": {
      "text/plain": [
       "array([[[0.22852638],\n",
       "        [0.24665089],\n",
       "        [0.2758077 ],\n",
       "        ...,\n",
       "        [0.29944837],\n",
       "        [0.3506698 ],\n",
       "        [0.4546887 ]]], dtype=float32)"
      ]
     },
     "execution_count": 4,
     "metadata": {},
     "output_type": "execute_result"
    }
   ],
   "source": [
    "X"
   ]
  },
  {
   "cell_type": "code",
   "execution_count": 5,
   "metadata": {},
   "outputs": [
    {
     "data": {
      "text/plain": [
       "array([[[0.24665089],\n",
       "        [0.2758077 ],\n",
       "        [0.21946414],\n",
       "        ...,\n",
       "        [0.3506698 ],\n",
       "        [0.4546887 ],\n",
       "        [0.4862096 ]]], dtype=float32)"
      ]
     },
     "execution_count": 5,
     "metadata": {},
     "output_type": "execute_result"
    }
   ],
   "source": [
    "Y_target"
   ]
  },
  {
   "cell_type": "code",
   "execution_count": 6,
   "metadata": {},
   "outputs": [],
   "source": [
    "h_prev = np.zeros((hidden_size, 1))"
   ]
  },
  {
   "cell_type": "code",
   "execution_count": 7,
   "metadata": {},
   "outputs": [],
   "source": [
    "x = X[:,0,:]\n",
    "y_target = Y_target[:,0,:]\n",
    "\n",
    "y_pred, h = self.forward(x, h_prev)"
   ]
  },
  {
   "cell_type": "code",
   "execution_count": 58,
   "metadata": {},
   "outputs": [],
   "source": [
    "dL_dy = y_pred - y_target\n",
    "dL_dbeta = dL_dy * y_pred * (1 - y_pred)\n",
    "dL_dWy = h @ dL_dbeta\n",
    "dL_dby = dL_dbeta\n",
    "dL_dh = self.Wy.T @ dL_dbeta\n",
    "dL_dalpha = dL_dh * (1 - h**2)\n",
    "dL_dWx = dL_dalpha @ x.T\n",
    "dL_dbx = dL_dalpha"
   ]
  },
  {
   "cell_type": "code",
   "execution_count": 61,
   "metadata": {},
   "outputs": [
    {
     "data": {
      "text/plain": [
       "array([[-0.01729235],\n",
       "       [ 0.05386739],\n",
       "       [-0.00038443],\n",
       "       [-0.02734253],\n",
       "       [ 0.02387646]])"
      ]
     },
     "execution_count": 61,
     "metadata": {},
     "output_type": "execute_result"
    }
   ],
   "source": [
    "dL_dalpha"
   ]
  },
  {
   "cell_type": "code",
   "execution_count": 54,
   "metadata": {},
   "outputs": [
    {
     "data": {
      "text/plain": [
       "array([[-0.01729235,  0.05323234, -0.00038789, -0.03039739,  0.02363899],\n",
       "       [-0.01749865,  0.05386739, -0.00039252, -0.03076003,  0.023921  ],\n",
       "       [-0.01713792,  0.05275692, -0.00038443, -0.03012591,  0.02342787],\n",
       "       [-0.01555452,  0.04788262, -0.00034891, -0.02734253,  0.02126333],\n",
       "       [-0.01746607,  0.05376709, -0.00039179, -0.03070275,  0.02387646]])"
      ]
     },
     "execution_count": 54,
     "metadata": {},
     "output_type": "execute_result"
    }
   ],
   "source": [
    "dL_dalpha"
   ]
  },
  {
   "cell_type": "code",
   "execution_count": 53,
   "metadata": {},
   "outputs": [],
   "source": [
    "dL_dWx = dL_dalpha @ x.T"
   ]
  },
  {
   "cell_type": "code",
   "execution_count": 46,
   "metadata": {},
   "outputs": [
    {
     "data": {
      "text/plain": [
       "array([[0.02911074]])"
      ]
     },
     "execution_count": 46,
     "metadata": {},
     "output_type": "execute_result"
    }
   ],
   "source": [
    "dL_dbeta"
   ]
  },
  {
   "cell_type": "code",
   "execution_count": 48,
   "metadata": {},
   "outputs": [
    {
     "data": {
      "text/plain": [
       "array([[ 0.11302725],\n",
       "       [-0.03158653],\n",
       "       [ 0.14694241],\n",
       "       [ 0.33464728],\n",
       "       [-0.05345921]])"
      ]
     },
     "execution_count": 48,
     "metadata": {},
     "output_type": "execute_result"
    }
   ],
   "source": [
    "h"
   ]
  },
  {
   "cell_type": "code",
   "execution_count": 49,
   "metadata": {},
   "outputs": [
    {
     "data": {
      "text/plain": [
       "array([[-0.01751613],\n",
       "       [ 0.05392119],\n",
       "       [-0.00039291],\n",
       "       [-0.03079075],\n",
       "       [ 0.02394489]])"
      ]
     },
     "execution_count": 49,
     "metadata": {},
     "output_type": "execute_result"
    }
   ],
   "source": [
    "self.Wy.T @ dL_dbeta"
   ]
  },
  {
   "cell_type": "code",
   "execution_count": 42,
   "metadata": {},
   "outputs": [
    {
     "data": {
      "text/plain": [
       "array([[0.02911074]])"
      ]
     },
     "execution_count": 42,
     "metadata": {},
     "output_type": "execute_result"
    }
   ],
   "source": [
    "dL_dbeta"
   ]
  },
  {
   "cell_type": "code",
   "execution_count": 30,
   "metadata": {},
   "outputs": [
    {
     "data": {
      "text/plain": [
       "array([[0.1246985]])"
      ]
     },
     "execution_count": 30,
     "metadata": {},
     "output_type": "execute_result"
    }
   ],
   "source": [
    "dL_dbeta = dL_dy * y_pred * (1 - y_pred)"
   ]
  },
  {
   "cell_type": "code",
   "execution_count": 31,
   "metadata": {},
   "outputs": [],
   "source": [
    "dy_dWy = h * y_pred * (1 - y_pred)\n",
    "dy_dby = y_pred * (1 - y_pred)"
   ]
  },
  {
   "cell_type": "code",
   "execution_count": 35,
   "metadata": {},
   "outputs": [],
   "source": [
    "dL_dWy = dy_dWy @ dL_dy\n",
    "dL_dby = dL_dy * dy_dby"
   ]
  },
  {
   "cell_type": "code",
   "execution_count": 40,
   "metadata": {},
   "outputs": [
    {
     "data": {
      "text/plain": [
       "array([[-0.60170661,  1.85227818, -0.01349722, -1.05771093,  0.82254491]])"
      ]
     },
     "execution_count": 40,
     "metadata": {},
     "output_type": "execute_result"
    }
   ],
   "source": [
    "self.Wy"
   ]
  },
  {
   "cell_type": "code",
   "execution_count": 39,
   "metadata": {},
   "outputs": [],
   "source": [
    "dL_dh = dL_dy *  y_pred * (1 - y_pred) * self.Wy"
   ]
  },
  {
   "cell_type": "code",
   "execution_count": 32,
   "metadata": {},
   "outputs": [
    {
     "data": {
      "text/plain": [
       "array([[0.23344902]])"
      ]
     },
     "execution_count": 32,
     "metadata": {},
     "output_type": "execute_result"
    }
   ],
   "source": [
    "dy_dby"
   ]
  },
  {
   "cell_type": "code",
   "execution_count": null,
   "metadata": {},
   "outputs": [],
   "source": [
    "dL_dy = y_pred - y_target\n",
    "dy_dWy = h * y_pred * (1 - y_pred)\n",
    "dy_dby = y_pred * (1 - y_pred)\n",
    "\n",
    "dL_dWy = np.dot(dL_dy, dy_dWy.T)\n",
    "dL_dby = dL_dy * dy_dby\n",
    "dL_dh = np.dot(self.Wy.T, dL_dy)\n",
    "dL_da = dL_dh * (1 - h**2)\n",
    "\n",
    "dL_dWx = np.dot(dL_da, x.T)\n",
    "dL_dWh = np.dot(dL_da, h_prev.T)\n",
    "dL_dbh = dL_da"
   ]
  },
  {
   "cell_type": "code",
   "execution_count": 26,
   "metadata": {},
   "outputs": [
    {
     "data": {
      "text/plain": [
       "array([[0.37134939]])"
      ]
     },
     "execution_count": 26,
     "metadata": {},
     "output_type": "execute_result"
    }
   ],
   "source": [
    "y"
   ]
  },
  {
   "cell_type": "code",
   "execution_count": 27,
   "metadata": {},
   "outputs": [
    {
     "data": {
      "text/plain": [
       "array([[ 0.11302725],\n",
       "       [-0.03158653],\n",
       "       [ 0.14694241],\n",
       "       [ 0.33464728],\n",
       "       [-0.05345921]])"
      ]
     },
     "execution_count": 27,
     "metadata": {},
     "output_type": "execute_result"
    }
   ],
   "source": [
    "h"
   ]
  },
  {
   "cell_type": "code",
   "execution_count": 12,
   "metadata": {},
   "outputs": [
    {
     "ename": "IndentationError",
     "evalue": "expected an indented block (3602867221.py, line 9)",
     "output_type": "error",
     "traceback": [
      "\u001b[0;36m  Cell \u001b[0;32mIn[12], line 9\u001b[0;36m\u001b[0m\n\u001b[0;31m    n_x, n_h, n_y = 1, 5, 1\u001b[0m\n\u001b[0m    ^\u001b[0m\n\u001b[0;31mIndentationError\u001b[0m\u001b[0;31m:\u001b[0m expected an indented block\n"
     ]
    }
   ],
   "source": [
    "import numpy as np\n",
    "\n",
    "time_series = np.sin(np.linspace(0, 10, 100))  # Replace this with your 100 time series values\n",
    "\n",
    "class SimpleRNN:\n",
    "    # ... (same as before) ...\n",
    "\n",
    "# Example usage\n",
    "n_x, n_h, n_y = 1, 5, 1\n",
    "rnn = SimpleRNN(n_x, n_h, n_y)\n",
    "learning_rate = 0.01\n",
    "n_epochs = 1000\n",
    "\n",
    "# Prepare the input and target sequences\n",
    "X = time_series[:-1].reshape(1, -1, 1)  # Exclude the last value\n",
    "Y_target = time_series[1:].reshape(1, -1, 1)  # Exclude the first value\n",
    "\n",
    "# Training loop\n",
    "for epoch in range(n_epochs):\n",
    "    h_prev = np.zeros((n_h, 1))\n",
    "    loss = 0\n",
    "\n",
    "    for t in range(X.shape[1]):\n",
    "        x = X[:, t, :]\n",
    "        y_target = Y_target[:, t, :]\n",
    "\n",
    "        # Forward step\n",
    "        y, h = rnn.forward_step(x, h_prev)\n",
    "        h_prev = h\n",
    "\n",
    "        # Calculate loss (mean squared error)\n",
    "        loss += np.mean((y - y_target)**2)\n",
    "\n",
    "        # Backward step\n",
    "        rnn.backward_step(x, h_prev, y, h, y_target, learning_rate)\n",
    "\n",
    "    # Average loss for the sequence\n",
    "    loss /= X.shape[1]\n",
    "\n",
    "    if epoch % 100 == 0:\n",
    "        print(f\"Epoch {epoch}, Loss: {loss:.4f}\")\n"
   ]
  },
  {
   "cell_type": "code",
   "execution_count": 2,
   "metadata": {},
   "outputs": [],
   "source": [
    "# Parameter split_percent defines the ratio of training examples\n",
    "def get_train_test(url, split_percent=0.8):\n",
    "    df = pd.read_csv(url, usecols=[1], engine='python')\n",
    "    data = np.array(df.values.astype('float32'))\n",
    "    scaler = MinMaxScaler(feature_range=(0, 1))\n",
    "    data = scaler.fit_transform(data).flatten()\n",
    "    n = len(data)\n",
    "    # Point for splitting data into train and test\n",
    "    split = int(n*split_percent)\n",
    "    train_data = data[range(split)]\n",
    "    test_data = data[split:]\n",
    "    return train_data, test_data, data\n",
    " \n",
    "sunspots_url = 'https://raw.githubusercontent.com/jbrownlee/Datasets/master/monthly-sunspots.csv'\n",
    "train_data, test_data, data = get_train_test(sunspots_url)"
   ]
  },
  {
   "cell_type": "code",
   "execution_count": 5,
   "metadata": {},
   "outputs": [],
   "source": [
    "# Prepare the input X and target Y\n",
    "def get_XY(dat, time_steps):\n",
    "    # Indices of target array\n",
    "    Y_ind = np.arange(time_steps, len(dat), time_steps)\n",
    "    Y = dat[Y_ind]\n",
    "    # Prepare X\n",
    "    rows_x = len(Y)\n",
    "    X = dat[range(time_steps*rows_x)]\n",
    "    X = np.reshape(X, (rows_x, time_steps, 1))    \n",
    "    return X, Y\n",
    "\n",
    "time_steps = 12\n",
    "trainX, trainY = get_XY(train_data, time_steps)\n",
    "testX, testY = get_XY(test_data, time_steps)"
   ]
  },
  {
   "cell_type": "code",
   "execution_count": 9,
   "metadata": {},
   "outputs": [
    {
     "data": {
      "text/plain": [
       "array([[0.22852638],\n",
       "       [0.24665089],\n",
       "       [0.2758077 ],\n",
       "       [0.21946414],\n",
       "       [0.33490935],\n",
       "       [0.3289992 ],\n",
       "       [0.37352246],\n",
       "       [0.2612293 ],\n",
       "       [0.29905435],\n",
       "       [0.29747832],\n",
       "       [0.6249015 ],\n",
       "       [0.33569738]], dtype=float32)"
      ]
     },
     "execution_count": 9,
     "metadata": {},
     "output_type": "execute_result"
    }
   ],
   "source": [
    "trainX[0]"
   ]
  },
  {
   "cell_type": "code",
   "execution_count": 8,
   "metadata": {},
   "outputs": [
    {
     "data": {
      "text/plain": [
       "(187,)"
      ]
     },
     "execution_count": 8,
     "metadata": {},
     "output_type": "execute_result"
    }
   ],
   "source": [
    "trainY.shape"
   ]
  },
  {
   "cell_type": "code",
   "execution_count": 10,
   "metadata": {},
   "outputs": [
    {
     "data": {
      "text/plain": [
       "array([0.22852638, 0.24665089, 0.2758077 , ..., 0.3506698 , 0.4546887 ,\n",
       "       0.4862096 ], dtype=float32)"
      ]
     },
     "execution_count": 10,
     "metadata": {},
     "output_type": "execute_result"
    }
   ],
   "source": [
    "train_data"
   ]
  },
  {
   "cell_type": "code",
   "execution_count": 11,
   "metadata": {},
   "outputs": [
    {
     "data": {
      "text/plain": [
       "0.28881007"
      ]
     },
     "execution_count": 11,
     "metadata": {},
     "output_type": "execute_result"
    }
   ],
   "source": [
    "trainY[0]"
   ]
  },
  {
   "cell_type": "code",
   "execution_count": null,
   "metadata": {},
   "outputs": [],
   "source": []
  }
 ],
 "metadata": {
  "kernelspec": {
   "display_name": "test_env",
   "language": "python",
   "name": "python3"
  },
  "language_info": {
   "codemirror_mode": {
    "name": "ipython",
    "version": 3
   },
   "file_extension": ".py",
   "mimetype": "text/x-python",
   "name": "python",
   "nbconvert_exporter": "python",
   "pygments_lexer": "ipython3",
   "version": "3.8.16"
  },
  "orig_nbformat": 4
 },
 "nbformat": 4,
 "nbformat_minor": 2
}
