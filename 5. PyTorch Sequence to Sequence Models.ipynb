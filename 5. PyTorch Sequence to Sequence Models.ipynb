{
 "cells": [
  {
   "cell_type": "code",
   "execution_count": 1,
   "metadata": {},
   "outputs": [
    {
     "name": "stderr",
     "output_type": "stream",
     "text": [
      "c:\\Users\\zhufe\\anaconda3\\lib\\site-packages\\numpy\\_distributor_init.py:30: UserWarning: loaded more than 1 DLL from .libs:\n",
      "c:\\Users\\zhufe\\anaconda3\\lib\\site-packages\\numpy\\.libs\\libopenblas.EL2C6PLE4ZYW3ECEVIV3OXXGRN2NRFM2.gfortran-win_amd64.dll\n",
      "c:\\Users\\zhufe\\anaconda3\\lib\\site-packages\\numpy\\.libs\\libopenblas.GK7GX5KEQ4F6UYO3P26ULGBQYHGQO7J4.gfortran-win_amd64.dll\n",
      "c:\\Users\\zhufe\\anaconda3\\lib\\site-packages\\numpy\\.libs\\libopenblas.WCDJNK7YVMPZQ2ME2ZZHJJRJ3JIKNDB7.gfortran-win_amd64.dll\n",
      "  warnings.warn(\"loaded more than 1 DLL from .libs:\"\n"
     ]
    }
   ],
   "source": [
    "import torch\n",
    "from models.data_loader import *\n",
    "from models.sequence_to_sequence import *\n",
    "from models.train import *"
   ]
  },
  {
   "cell_type": "code",
   "execution_count": 2,
   "metadata": {},
   "outputs": [],
   "source": [
    "train_data, test_data, loss_fn = get_sequence_to_sequence_train_test_dataloader()\n",
    "x, y = next(iter(train_data))\n",
    "input_size, hidden_size, output_size, output_length = 1, 32, 1, 15"
   ]
  },
  {
   "cell_type": "code",
   "execution_count": 3,
   "metadata": {},
   "outputs": [
    {
     "name": "stdout",
     "output_type": "stream",
     "text": [
      "2.375896632671356\n",
      "0.3861439824104309\n",
      "0.35273605585098267\n",
      "0.3501537889242172\n",
      "0.3540481701493263\n",
      "0.3339969664812088\n",
      "0.32230194658041\n",
      "0.30315154790878296\n",
      "0.29993148148059845\n",
      "0.3068312034010887\n"
     ]
    }
   ],
   "source": [
    "model = EncoderDecoder(input_size, hidden_size, output_size, output_length)\n",
    "optimizer = torch.optim.Adam(model.parameters(), lr=0.01)\n",
    "train(loss_fn, optimizer, model, train_data, teacher_training=True)"
   ]
  },
  {
   "cell_type": "code",
   "execution_count": 3,
   "metadata": {},
   "outputs": [
    {
     "name": "stdout",
     "output_type": "stream",
     "text": [
      "2.310955226421356\n",
      "1.4563041627407074\n",
      "0.6850783228874207\n",
      "0.6579168438911438\n",
      "0.5334137082099915\n",
      "0.46024225652217865\n",
      "0.47607047855854034\n",
      "0.48518307507038116\n",
      "0.45016050338745117\n",
      "0.4601793438196182\n"
     ]
    }
   ],
   "source": [
    "model = Transformer(input_size, hidden_size, output_size, output_length)\n",
    "optimizer = torch.optim.Adam(model.parameters(), lr=0.01)\n",
    "train(loss_fn, optimizer, model, train_data, teacher_training=True)"
   ]
  }
 ],
 "metadata": {
  "kernelspec": {
   "display_name": "Python 3.8.5 ('base')",
   "language": "python",
   "name": "python3"
  },
  "language_info": {
   "codemirror_mode": {
    "name": "ipython",
    "version": 3
   },
   "file_extension": ".py",
   "mimetype": "text/x-python",
   "name": "python",
   "nbconvert_exporter": "python",
   "pygments_lexer": "ipython3",
   "version": "3.8.5"
  },
  "orig_nbformat": 4,
  "vscode": {
   "interpreter": {
    "hash": "9c2396ee008e4910c299ae7134fa9bf09084771bab5830620999247b4a514b46"
   }
  }
 },
 "nbformat": 4,
 "nbformat_minor": 2
}
