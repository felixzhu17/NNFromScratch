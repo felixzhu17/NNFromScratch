{
 "cells": [
  {
   "cell_type": "code",
   "execution_count": 8,
   "metadata": {},
   "outputs": [],
   "source": [
    "from models.attention import *"
   ]
  },
  {
   "cell_type": "code",
   "execution_count": 32,
   "metadata": {},
   "outputs": [],
   "source": [
    "test_model = make_model(11, 11, 2)\n",
    "test_model.eval()\n",
    "src = torch.LongTensor([[1, 2, 3, 4, 5, 6, 7, 8, 9, 10]])\n",
    "src_mask = torch.ones(1, 1, 10)\n",
    "memory = test_model.encode(src, src_mask)\n",
    "ys = torch.zeros(1, 1).type_as(src)\n",
    "\n",
    "\n",
    "\n",
    "# for i in range(9):\n",
    "#     out = test_model.decode(\n",
    "#         memory, src_mask, ys, subsequent_mask(ys.size(1)).type_as(src.data)\n",
    "#     )\n",
    "#     prob = test_model.generator(out[:, -1])\n",
    "#     _, next_word = torch.max(prob, dim=1)\n",
    "#     next_word = next_word.data[0]\n",
    "#     ys = torch.cat(\n",
    "#         [ys, torch.empty(1, 1).type_as(src.data).fill_(next_word)], dim=1\n",
    "#     )\n",
    "\n",
    "#print(\"Example Untrained Model Prediction:\", ys)"
   ]
  },
  {
   "cell_type": "code",
   "execution_count": 36,
   "metadata": {},
   "outputs": [],
   "source": [
    "out = test_model.decode(\n",
    "        memory, src_mask, ys, subsequent_mask(ys.size(1)).type_as(src.data)\n",
    "    )\n",
    "prob = test_model.generator(out[:, -1])\n",
    "_, next_word = torch.max(prob, dim=1)\n",
    "next_word = next_word.data[0]\n",
    "ys = torch.cat(\n",
    "    [ys, torch.empty(1, 1).type_as(src.data).fill_(next_word)], dim=1\n",
    ")"
   ]
  },
  {
   "cell_type": "code",
   "execution_count": 37,
   "metadata": {},
   "outputs": [
    {
     "data": {
      "text/plain": [
       "torch.Size([1, 2, 512])"
      ]
     },
     "execution_count": 37,
     "metadata": {},
     "output_type": "execute_result"
    }
   ],
   "source": [
    "out.shape"
   ]
  },
  {
   "cell_type": "code",
   "execution_count": 40,
   "metadata": {},
   "outputs": [
    {
     "data": {
      "text/plain": [
       "torch.Size([1, 512])"
      ]
     },
     "execution_count": 40,
     "metadata": {},
     "output_type": "execute_result"
    }
   ],
   "source": [
    "out[:, -1].shape"
   ]
  }
 ],
 "metadata": {
  "kernelspec": {
   "display_name": "Python 3.9.0 ('test_env': venv)",
   "language": "python",
   "name": "python3"
  },
  "language_info": {
   "codemirror_mode": {
    "name": "ipython",
    "version": 3
   },
   "file_extension": ".py",
   "mimetype": "text/x-python",
   "name": "python",
   "nbconvert_exporter": "python",
   "pygments_lexer": "ipython3",
   "version": "3.9.0"
  },
  "orig_nbformat": 4,
  "vscode": {
   "interpreter": {
    "hash": "220e1434cea7539994dcf8ed5ed5c169d1f15d1ade53f28b774d618e5b177f28"
   }
  }
 },
 "nbformat": 4,
 "nbformat_minor": 2
}
