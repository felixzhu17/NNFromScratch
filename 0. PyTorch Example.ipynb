{
 "cells": [
  {
   "cell_type": "code",
   "execution_count": 1,
   "metadata": {},
   "outputs": [
    {
     "name": "stderr",
     "output_type": "stream",
     "text": [
      "c:\\Users\\zhufe\\anaconda3\\lib\\site-packages\\numpy\\_distributor_init.py:30: UserWarning: loaded more than 1 DLL from .libs:\n",
      "c:\\Users\\zhufe\\anaconda3\\lib\\site-packages\\numpy\\.libs\\libopenblas.EL2C6PLE4ZYW3ECEVIV3OXXGRN2NRFM2.gfortran-win_amd64.dll\n",
      "c:\\Users\\zhufe\\anaconda3\\lib\\site-packages\\numpy\\.libs\\libopenblas.GK7GX5KEQ4F6UYO3P26ULGBQYHGQO7J4.gfortran-win_amd64.dll\n",
      "c:\\Users\\zhufe\\anaconda3\\lib\\site-packages\\numpy\\.libs\\libopenblas.WCDJNK7YVMPZQ2ME2ZZHJJRJ3JIKNDB7.gfortran-win_amd64.dll\n",
      "  warnings.warn(\"loaded more than 1 DLL from .libs:\"\n"
     ]
    }
   ],
   "source": [
    "import torch\n",
    "\n",
    "X = torch.randn(5, 1000)\n",
    "true_weights = torch.randn(1, 5)\n",
    "true_bias = torch.randn(1)\n",
    "y = true_weights @ X + true_bias + 0.1 * torch.randn(1, 1000)"
   ]
  },
  {
   "cell_type": "code",
   "execution_count": 117,
   "metadata": {},
   "outputs": [
    {
     "data": {
      "text/plain": [
       "tensor(0.0097)"
      ]
     },
     "execution_count": 117,
     "metadata": {},
     "output_type": "execute_result"
    }
   ],
   "source": [
    "true_prediction = true_weights @ X + true_bias\n",
    "((y - true_prediction) ** 2).mean()"
   ]
  },
  {
   "cell_type": "code",
   "execution_count": 149,
   "metadata": {},
   "outputs": [],
   "source": [
    "weights = torch.randn(1, 5, requires_grad=True)\n",
    "bias = torch.randn(1, requires_grad=True)\n",
    "learning_rate = 0.1"
   ]
  },
  {
   "cell_type": "code",
   "execution_count": 150,
   "metadata": {},
   "outputs": [
    {
     "name": "stdout",
     "output_type": "stream",
     "text": [
      "tensor(7.0372, grad_fn=<MeanBackward0>)\n",
      "tensor(4.3572, grad_fn=<MeanBackward0>)\n",
      "tensor(2.7013, grad_fn=<MeanBackward0>)\n",
      "tensor(1.6774, grad_fn=<MeanBackward0>)\n",
      "tensor(1.0439, grad_fn=<MeanBackward0>)\n",
      "tensor(0.6515, grad_fn=<MeanBackward0>)\n",
      "tensor(0.4084, grad_fn=<MeanBackward0>)\n",
      "tensor(0.2576, grad_fn=<MeanBackward0>)\n",
      "tensor(0.1639, grad_fn=<MeanBackward0>)\n",
      "tensor(0.1058, grad_fn=<MeanBackward0>)\n"
     ]
    }
   ],
   "source": [
    "for _ in range(10):\n",
    "\n",
    "    prediction = weights @ X + bias\n",
    "\n",
    "    loss = ((y - prediction) ** 2).mean()\n",
    "    print(loss)\n",
    "    loss.backward()\n",
    "\n",
    "    # Temporarily disable gradient tracking while updating the weights and bias\n",
    "    with torch.no_grad():\n",
    "        weights -= learning_rate * weights.grad  # ((y - prediction)*-2) @ X.T/1000\n",
    "        bias -= learning_rate * bias.grad  # ((y - prediction)*-2).sum()/1000\n",
    "\n",
    "    # Clear gradients for the next iteration\n",
    "    _ = weights.grad.zero_()\n",
    "    _ = bias.grad.zero_()"
   ]
  },
  {
   "cell_type": "code",
   "execution_count": 133,
   "metadata": {},
   "outputs": [],
   "source": [
    "weights = torch.randn(1, 5, requires_grad=True)\n",
    "bias = torch.randn(1, requires_grad=True)\n",
    "learning_rate = 0.1"
   ]
  },
  {
   "cell_type": "code",
   "execution_count": 134,
   "metadata": {},
   "outputs": [],
   "source": [
    "mse_loss = torch.nn.MSELoss()\n",
    "optimizer = torch.optim.SGD([weights, bias], lr=learning_rate)"
   ]
  },
  {
   "cell_type": "code",
   "execution_count": 140,
   "metadata": {},
   "outputs": [],
   "source": [
    "prediction = weights @ X + bias\n",
    "\n",
    "loss = mse_loss(y, prediction)\n",
    "loss.backward()\n",
    "\n",
    "optimizer.step()\n",
    "optimizer.zero_grad()"
   ]
  }
 ],
 "metadata": {
  "kernelspec": {
   "display_name": "Python 3.8.5 ('base')",
   "language": "python",
   "name": "python3"
  },
  "language_info": {
   "codemirror_mode": {
    "name": "ipython",
    "version": 3
   },
   "file_extension": ".py",
   "mimetype": "text/x-python",
   "name": "python",
   "nbconvert_exporter": "python",
   "pygments_lexer": "ipython3",
   "version": "3.8.5"
  },
  "orig_nbformat": 4,
  "vscode": {
   "interpreter": {
    "hash": "9c2396ee008e4910c299ae7134fa9bf09084771bab5830620999247b4a514b46"
   }
  }
 },
 "nbformat": 4,
 "nbformat_minor": 2
}
