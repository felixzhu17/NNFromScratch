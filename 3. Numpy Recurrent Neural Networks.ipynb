{
 "cells": [
  {
   "cell_type": "code",
   "execution_count": 1,
   "metadata": {},
   "outputs": [
    {
     "name": "stderr",
     "output_type": "stream",
     "text": [
      "c:\\Users\\zhufe\\anaconda3\\lib\\site-packages\\numpy\\_distributor_init.py:30: UserWarning: loaded more than 1 DLL from .libs:\n",
      "c:\\Users\\zhufe\\anaconda3\\lib\\site-packages\\numpy\\.libs\\libopenblas.EL2C6PLE4ZYW3ECEVIV3OXXGRN2NRFM2.gfortran-win_amd64.dll\n",
      "c:\\Users\\zhufe\\anaconda3\\lib\\site-packages\\numpy\\.libs\\libopenblas.GK7GX5KEQ4F6UYO3P26ULGBQYHGQO7J4.gfortran-win_amd64.dll\n",
      "c:\\Users\\zhufe\\anaconda3\\lib\\site-packages\\numpy\\.libs\\libopenblas.WCDJNK7YVMPZQ2ME2ZZHJJRJ3JIKNDB7.gfortran-win_amd64.dll\n",
      "  warnings.warn(\"loaded more than 1 DLL from .libs:\"\n"
     ]
    }
   ],
   "source": [
    "import torch\n",
    "from models.data_loader import *\n",
    "from models.recurrent_net import *"
   ]
  },
  {
   "cell_type": "code",
   "execution_count": 2,
   "metadata": {},
   "outputs": [],
   "source": [
    "input_size, hidden_size, output_size = 1, 5, 1\n",
    "self = NumpyRecurrentNeuralNetwork(input_size, hidden_size, output_size)"
   ]
  },
  {
   "cell_type": "code",
   "execution_count": 3,
   "metadata": {},
   "outputs": [],
   "source": [
    "X_train, X_test, y_train, y_test = get_sequential_train_test_data()"
   ]
  },
  {
   "cell_type": "code",
   "execution_count": 4,
   "metadata": {},
   "outputs": [
    {
     "name": "stdout",
     "output_type": "stream",
     "text": [
      "MSE: 1.6001381549900355\n"
     ]
    }
   ],
   "source": [
    "self.print_mse(X_test, y_test)"
   ]
  },
  {
   "cell_type": "code",
   "execution_count": 5,
   "metadata": {},
   "outputs": [
    {
     "name": "stdout",
     "output_type": "stream",
     "text": [
      "MSE: 0.891950509490283\n",
      "MSE: 0.6465764999232279\n",
      "MSE: 0.6373334079049461\n",
      "MSE: 0.631587085852219\n",
      "MSE: 0.6287648657098364\n",
      "MSE: 0.6175888303156541\n",
      "MSE: 0.6097701867604363\n",
      "MSE: 0.6055683462617854\n",
      "MSE: 0.5954325093916077\n",
      "MSE: 0.5820253185516729\n",
      "MSE: 0.5732974004173743\n",
      "MSE: 0.5664409799936754\n",
      "MSE: 0.5635288520554153\n",
      "MSE: 0.5606939298204444\n",
      "MSE: 0.5543895399992252\n",
      "MSE: 0.5498146271734308\n",
      "MSE: 0.5465965872015786\n",
      "MSE: 0.5420604253883662\n",
      "MSE: 0.539143616416776\n",
      "MSE: 0.5349972882657617\n",
      "MSE: 0.5328063376951566\n",
      "MSE: 0.5310158044731444\n",
      "MSE: 0.5298177612080496\n",
      "MSE: 0.5276221700342276\n",
      "MSE: 0.5249256364688923\n",
      "MSE: 0.5234407189978718\n",
      "MSE: 0.5221383530927625\n",
      "MSE: 0.521554616343887\n",
      "MSE: 0.5210577693734638\n",
      "MSE: 0.5206224352877843\n",
      "MSE: 0.520234859446796\n",
      "MSE: 0.5198851634521833\n",
      "MSE: 0.5195651421124702\n",
      "MSE: 0.5192686232847347\n",
      "MSE: 0.5189912735981745\n",
      "MSE: 0.5187299571981688\n",
      "MSE: 0.5184821995979473\n",
      "MSE: 0.5182459138001073\n",
      "MSE: 0.5180193204461015\n",
      "MSE: 0.5178009464935648\n",
      "MSE: 0.5175896194803352\n",
      "MSE: 0.5173844298296888\n",
      "MSE: 0.5171846715603486\n",
      "MSE: 0.5169897847299177\n",
      "MSE: 0.5167993258488766\n",
      "MSE: 0.516613000984641\n",
      "MSE: 0.5164308160831496\n",
      "MSE: 0.5162533862977428\n",
      "MSE: 0.5160820444023089\n",
      "MSE: 0.5159167806730524\n",
      "MSE: 0.5157549352053757\n",
      "MSE: 0.5155970995847642\n",
      "MSE: 0.5154433583464538\n",
      "MSE: 0.5152938708488624\n",
      "MSE: 0.5151485956539104\n",
      "MSE: 0.5150074912125374\n",
      "MSE: 0.5148704574389427\n",
      "MSE: 0.514737399179833\n",
      "MSE: 0.5146082057313457\n",
      "MSE: 0.5144827687013278\n",
      "MSE: 0.5143609751847232\n",
      "MSE: 0.5142427130515609\n",
      "MSE: 0.5141278698394212\n",
      "MSE: 0.5140163349969157\n",
      "MSE: 0.5139080007368424\n",
      "MSE: 0.5138027636746932\n",
      "MSE: 0.5137005262239732\n",
      "MSE: 0.5136011980821212\n",
      "MSE: 0.5135046974970717\n",
      "MSE: 0.513410952142252\n",
      "MSE: 0.5133198992582336\n",
      "MSE: 0.513231484704539\n",
      "MSE: 0.5131456605853448\n",
      "MSE: 0.5130623812262393\n",
      "MSE: 0.5129815974282352\n",
      "MSE: 0.5129032490244586\n",
      "MSE: 0.5128272556809498\n",
      "MSE: 0.5127535054298599\n",
      "MSE: 0.5126818392374158\n",
      "MSE: 0.5126120270223975\n",
      "MSE: 0.5125437228908264\n",
      "MSE: 0.5124763632602669\n",
      "MSE: 0.5124088731411484\n",
      "MSE: 0.5123384448830546\n",
      "MSE: 0.5122492233678166\n",
      "MSE: 0.5120790281861131\n",
      "MSE: 0.512137677670788\n",
      "MSE: 0.5119917910580277\n",
      "MSE: 0.5119197743001581\n",
      "MSE: 0.5121980970972823\n",
      "MSE: 0.5121357224142213\n",
      "MSE: 0.5120758093727044\n",
      "MSE: 0.5120213262663591\n",
      "MSE: 0.5119697786942582\n",
      "MSE: 0.5119294425266256\n",
      "MSE: 0.511877205741001\n",
      "MSE: 0.5118311646968049\n",
      "MSE: 0.5117605653601951\n",
      "MSE: 0.5116540957095407\n",
      "MSE: 0.511570731111411\n"
     ]
    }
   ],
   "source": [
    "for _ in range(100):\n",
    "    self.forward(X_train)\n",
    "    self.backward(X_train, y_train)\n",
    "    self.print_mse(X_train, y_train)"
   ]
  },
  {
   "cell_type": "code",
   "execution_count": 6,
   "metadata": {},
   "outputs": [
    {
     "name": "stdout",
     "output_type": "stream",
     "text": [
      "MSE: 0.8386198086082458\n"
     ]
    }
   ],
   "source": [
    "self.print_mse(X_test, y_test)"
   ]
  }
 ],
 "metadata": {
  "kernelspec": {
   "display_name": "Python 3.8.5 ('base')",
   "language": "python",
   "name": "python3"
  },
  "language_info": {
   "codemirror_mode": {
    "name": "ipython",
    "version": 3
   },
   "file_extension": ".py",
   "mimetype": "text/x-python",
   "name": "python",
   "nbconvert_exporter": "python",
   "pygments_lexer": "ipython3",
   "version": "3.8.5"
  },
  "orig_nbformat": 4,
  "vscode": {
   "interpreter": {
    "hash": "9c2396ee008e4910c299ae7134fa9bf09084771bab5830620999247b4a514b46"
   }
  }
 },
 "nbformat": 4,
 "nbformat_minor": 2
}
