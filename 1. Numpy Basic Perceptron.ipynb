{
 "cells": [
  {
   "cell_type": "code",
   "execution_count": null,
   "metadata": {},
   "outputs": [],
   "source": [
    "import numpy as np\n",
    "from models.data_loader import *\n",
    "from models.basic_net import *"
   ]
  },
  {
   "cell_type": "code",
   "execution_count": null,
   "metadata": {},
   "outputs": [],
   "source": [
    "X_train, X_test, y_train, y_test = get_tabular_train_test_data()"
   ]
  },
  {
   "cell_type": "code",
   "execution_count": null,
   "metadata": {},
   "outputs": [],
   "source": [
    "self = NumpyNeuralNetwork(\n",
    "    input_size=X_train.shape[1], hidden_size=50, output_size=1, learning_rate=0.001\n",
    ")\n",
    "for _ in range(10):\n",
    "    self.batch_gradient_descent(X_train, y_train)\n",
    "\n",
    "print(\"Test Results\")\n",
    "self.print_mse(X_test, y_test)"
   ]
  },
  {
   "cell_type": "code",
   "execution_count": null,
   "metadata": {},
   "outputs": [],
   "source": [
    "self = NumpyNeuralNetwork(\n",
    "    input_size=X_train.shape[1], hidden_size=50, output_size=1, learning_rate=0.001\n",
    ")\n",
    "for _ in range(10):\n",
    "    self.mini_batch_gradient_descent(X_train, y_train, batch_size=32)\n",
    "\n",
    "print(\"Test Results\")\n",
    "self.print_mse(X_test, y_test)"
   ]
  },
  {
   "cell_type": "code",
   "execution_count": null,
   "metadata": {},
   "outputs": [],
   "source": [
    "self = NumpyNeuralNetwork(\n",
    "    input_size=X_train.shape[1], hidden_size=50, output_size=1, learning_rate=0.001\n",
    ")\n",
    "for _ in range(10):\n",
    "    self.stochastic_gradient_descent(X_train, y_train)\n",
    "\n",
    "print(\"Test Results\")\n",
    "self.print_mse(X_test, y_test)"
   ]
  },
  {
   "cell_type": "code",
   "execution_count": null,
   "metadata": {},
   "outputs": [],
   "source": [
    "self = NumpyNeuralNetworkQuickProp(\n",
    "    input_size=X_train.shape[1], hidden_size=50, output_size=1, learning_rate=0.01\n",
    ")\n",
    "for _ in range(10):\n",
    "    self.batch_gradient_descent(X_train, y_train)\n",
    "print(\"Test Results\")\n",
    "self.print_mse(X_test, y_test)"
   ]
  }
 ],
 "metadata": {
  "kernelspec": {
   "display_name": "Python 3.8.5 ('base')",
   "language": "python",
   "name": "python3"
  },
  "language_info": {
   "codemirror_mode": {
    "name": "ipython",
    "version": 3
   },
   "file_extension": ".py",
   "mimetype": "text/x-python",
   "name": "python",
   "nbconvert_exporter": "python",
   "pygments_lexer": "ipython3",
   "version": "3.8.5"
  },
  "orig_nbformat": 4,
  "vscode": {
   "interpreter": {
    "hash": "9c2396ee008e4910c299ae7134fa9bf09084771bab5830620999247b4a514b46"
   }
  }
 },
 "nbformat": 4,
 "nbformat_minor": 2
}
