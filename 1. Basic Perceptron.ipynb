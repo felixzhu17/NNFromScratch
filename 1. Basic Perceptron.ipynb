{
 "cells": [
  {
   "cell_type": "code",
   "execution_count": 1,
   "metadata": {},
   "outputs": [
    {
     "name": "stderr",
     "output_type": "stream",
     "text": [
      "c:\\Users\\zhufe\\anaconda3\\lib\\site-packages\\numpy\\_distributor_init.py:30: UserWarning: loaded more than 1 DLL from .libs:\n",
      "c:\\Users\\zhufe\\anaconda3\\lib\\site-packages\\numpy\\.libs\\libopenblas.EL2C6PLE4ZYW3ECEVIV3OXXGRN2NRFM2.gfortran-win_amd64.dll\n",
      "c:\\Users\\zhufe\\anaconda3\\lib\\site-packages\\numpy\\.libs\\libopenblas.GK7GX5KEQ4F6UYO3P26ULGBQYHGQO7J4.gfortran-win_amd64.dll\n",
      "c:\\Users\\zhufe\\anaconda3\\lib\\site-packages\\numpy\\.libs\\libopenblas.WCDJNK7YVMPZQ2ME2ZZHJJRJ3JIKNDB7.gfortran-win_amd64.dll\n",
      "  warnings.warn(\"loaded more than 1 DLL from .libs:\"\n"
     ]
    }
   ],
   "source": [
    "import numpy as np\n",
    "from sklearn import datasets\n",
    "from sklearn.model_selection import train_test_split\n",
    "from sklearn.preprocessing import StandardScaler"
   ]
  },
  {
   "cell_type": "code",
   "execution_count": 2,
   "metadata": {},
   "outputs": [],
   "source": [
    "class NeuralNetwork:\n",
    "    def __init__(self, input_size, hidden_size, output_size, learning_rate = 0.01):\n",
    "        self.input_size = input_size\n",
    "        self.hidden_size = hidden_size\n",
    "        self.output_size = output_size\n",
    "        self.learning_rate = learning_rate\n",
    "        \n",
    "        self.weights1 = np.random.randn(self.hidden_size, self.input_size)\n",
    "        self.biases1 = np.random.randn(self.hidden_size, 1)\n",
    "        self.weights2 = np.random.randn(self.output_size, self.hidden_size)\n",
    "        self.biases2 = np.random.randn(self.output_size, 1)\n",
    "        \n",
    "    def forward(self, X, y):\n",
    "        self.z1 = self.weights1 @ X.T + self.biases1\n",
    "        self.a1 = self.sigmoid(self.z1)\n",
    "        self.z2 = self.weights2 @ self.a1 + self.biases2\n",
    "        self.a2 = self.sigmoid(self.z2)\n",
    "        print(f\"MSE: {self.mse(y.T, self.a2)}\")\n",
    "    \n",
    "    def sigmoid(self, s):\n",
    "        return 1/(1+np.exp(-s))\n",
    "\n",
    "    def sigmoid_derivative(self, s):\n",
    "        return s * (1 - s)\n",
    "\n",
    "    def backward(self, X, y):\n",
    "        m = X.shape[0]\n",
    "        y = y.reshape(-1, 1)\n",
    "    \n",
    "        self.error_delta = -2*(y.T - self.a2)\n",
    "        self.z2_delta = self.sigmoid_derivative(self.a2) * self.error_delta\n",
    "        self.z1_delta = self.sigmoid_derivative(self.a1) * (self.weights2.T @ self.z2_delta)\n",
    "\n",
    "        self.weights2_delta = self.z2_delta @ self.a1.T / m\n",
    "        self.biases2_delta = np.sum(self.z2_delta, axis=1, keepdims=True) / m\n",
    "\n",
    "        self.weights1_delta = self.z1_delta @ X / m\n",
    "        self.biases1_delta = np.sum(self.z1_delta, axis=1, keepdims=True) / m\n",
    "\n",
    "        self.weights1 -= self.learning_rate*self.weights1_delta\n",
    "        self.biases1 -= self.learning_rate*self.biases1_delta\n",
    "\n",
    "        self.weights2 -= self.learning_rate*self.weights2_delta\n",
    "        self.biases2 -= self.learning_rate*self.biases2_delta\n",
    "    \n",
    "    def mse(self, y_true, y_pred):\n",
    "        return np.mean((y_true - y_pred)**2)\n",
    "        \n",
    "    def train(self, X, y):\n",
    "        self.forward(X, y)\n",
    "        self.backward(X, y)"
   ]
  },
  {
   "cell_type": "code",
   "execution_count": 3,
   "metadata": {},
   "outputs": [],
   "source": [
    "X = datasets.load_boston()['data']\n",
    "y = datasets.load_boston()['target']\n",
    "X_train, X_test, y_train, y_test = train_test_split(X, y, test_size=0.2, random_state=42)\n",
    "scaler = StandardScaler()\n",
    "X_train = scaler.fit_transform(X_train)\n",
    "X_test = scaler.transform(X_test)"
   ]
  },
  {
   "cell_type": "code",
   "execution_count": 4,
   "metadata": {},
   "outputs": [],
   "source": [
    "self = NeuralNetwork(input_size = X_train.shape[1], hidden_size = 50, output_size = 1, learning_rate = 0.01)"
   ]
  },
  {
   "cell_type": "code",
   "execution_count": 5,
   "metadata": {},
   "outputs": [
    {
     "name": "stdout",
     "output_type": "stream",
     "text": [
      "MSE: 598.2505509380618\n",
      "MSE: 593.4482224229868\n",
      "MSE: 585.4265404687435\n",
      "MSE: 576.3651338154432\n",
      "MSE: 570.2060138528817\n",
      "MSE: 566.9181773364104\n",
      "MSE: 565.2082929217422\n",
      "MSE: 564.269357186192\n",
      "MSE: 563.712205511772\n",
      "MSE: 563.3560230874422\n"
     ]
    }
   ],
   "source": [
    "for _ in range(10):\n",
    "    self.train(X_train, y_train)"
   ]
  }
 ],
 "metadata": {
  "kernelspec": {
   "display_name": "Python 3.8.5 ('base')",
   "language": "python",
   "name": "python3"
  },
  "language_info": {
   "codemirror_mode": {
    "name": "ipython",
    "version": 3
   },
   "file_extension": ".py",
   "mimetype": "text/x-python",
   "name": "python",
   "nbconvert_exporter": "python",
   "pygments_lexer": "ipython3",
   "version": "3.8.5"
  },
  "orig_nbformat": 4,
  "vscode": {
   "interpreter": {
    "hash": "9c2396ee008e4910c299ae7134fa9bf09084771bab5830620999247b4a514b46"
   }
  }
 },
 "nbformat": 4,
 "nbformat_minor": 2
}
