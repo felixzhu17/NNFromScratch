{
 "cells": [
  {
   "cell_type": "code",
   "execution_count": null,
   "metadata": {},
   "outputs": [],
   "source": [
    "import numpy as np\n",
    "from sklearn import datasets\n",
    "from sklearn.model_selection import train_test_split\n",
    "from sklearn.preprocessing import StandardScaler"
   ]
  },
  {
   "cell_type": "code",
   "execution_count": null,
   "metadata": {},
   "outputs": [],
   "source": [
    "class NeuralNetwork:\n",
    "    def __init__(self, input_size, hidden_size, output_size, learning_rate = 0.01, momentum = 0.9, dropout_rate = 0.05, lambda_l2 = 0.01):\n",
    "        self.input_size = input_size\n",
    "        self.hidden_size = hidden_size\n",
    "        self.output_size = output_size\n",
    "        self.learning_rate = learning_rate\n",
    "        self.momentum = momentum\n",
    "        self.dropout_rate = dropout_rate\n",
    "        self.lambda_l2 = lambda_l2\n",
    "        \n",
    "        self.weights1 = np.random.randn(self.hidden_size, self.input_size) * np.sqrt(2 / (self.input_size+ self.hidden_size))\n",
    "        self.biases1 = np.random.randn(self.hidden_size, 1)\n",
    "        self.weights2 = np.random.randn(self.output_size, self.hidden_size) * np.sqrt(2 / (self.hidden_size+ self.output_size))\n",
    "        self.biases2 = np.random.randn(self.output_size, 1)\n",
    "\n",
    "        self.prev_weights1_update = np.zeros_like(self.weights1)\n",
    "        self.prev_biases1_update = np.zeros_like(self.biases1)\n",
    "        self.prev_weights2_update = np.zeros_like(self.weights2)\n",
    "        self.prev_biases2_update = np.zeros_like(self.biases2)\n",
    "\n",
    "        self.prev_error = np.inf\n",
    "        \n",
    "    def forward(self, X, training=True):\n",
    "        self.z1 = self.weights1 @ X.T + self.biases1\n",
    "        self.a1 = self.sigmoid(self.z1)\n",
    "        if training:\n",
    "            self.dropout_mask1 = np.random.rand(*self.a1.shape) > self.dropout_rate\n",
    "            self.a1 *= self.dropout_mask1\n",
    "        self.z2 = self.weights2 @ self.a1 + self.biases2\n",
    "        self.a2 = self.sigmoid(self.z2)\n",
    "        return self.a2\n",
    "    \n",
    "    def sigmoid(self, s):\n",
    "        return 1/(1+np.exp(-s))\n",
    "\n",
    "    def sigmoid_derivative(self, s):\n",
    "        return s * (1 - s)\n",
    "\n",
    "    def mse_derivative(self, y_true, y_pred):\n",
    "        return -2*(y_true - y_pred)\n",
    "\n",
    "    def backward(self, X, y):\n",
    "        m = X.shape[0]\n",
    "        y = y.reshape(-1, 1)\n",
    "    \n",
    "        self.error_delta = self.mse_derivative(y.T, self.a2)\n",
    "        self.z2_delta = self.sigmoid_derivative(self.a2) * self.error_delta\n",
    "        self.z1_delta = self.sigmoid_derivative(self.a1) * (self.weights2.T @ self.z2_delta)\n",
    "\n",
    "        # Apply dropout mask during backpropagation\n",
    "        self.z1_delta *= self.dropout_mask1\n",
    "\n",
    "        self.weights2_delta = self.z2_delta @ self.a1.T / m\n",
    "        self.biases2_delta = np.sum(self.z2_delta, axis=1, keepdims=True) / m\n",
    "\n",
    "        self.weights1_delta = self.z1_delta @ X / m\n",
    "        self.biases1_delta = np.sum(self.z1_delta, axis=1, keepdims=True) / m\n",
    "\n",
    "    def mse(self, y_true, y_pred):\n",
    "        return np.mean((y_true - y_pred)**2)\n",
    "\n",
    "    def print_mse(self, X, y):\n",
    "        print(f\"MSE: {self.mse(y.T, self.forward(X, training=False))}\")\n",
    "\n",
    "    def update_learning_rate(self, current_error):\n",
    "        if current_error < self.prev_error:\n",
    "            self.learning_rate *= 1.1\n",
    "        else:\n",
    "            self.learning_rate *= 0.5\n",
    "        self.prev_error = current_error\n",
    "\n",
    "    def update(self, y):\n",
    "        current_error = self.mse(self.a2, y)\n",
    "        self.update_learning_rate(current_error)\n",
    "\n",
    "        weights1_update = self.learning_rate * (self.weights1_delta + self.lambda_l2 * self.weights1) + self.momentum * self.prev_weights1_update\n",
    "        biases1_update = self.learning_rate * self.biases1_delta + self.momentum * self.prev_biases1_update\n",
    "        weights2_update = self.learning_rate * (self.weights2_delta + self.lambda_l2 * self.weights2) + self.momentum * self.prev_weights2_update\n",
    "        biases2_update = self.learning_rate * self.biases2_delta + self.momentum * self.prev_biases2_update\n",
    "\n",
    "        self.weights1 -= weights1_update\n",
    "        self.biases1 -= biases1_update\n",
    "        self.weights2 -= weights2_update\n",
    "        self.biases2 -= biases2_update\n",
    "\n",
    "        self.prev_weights1_update = weights1_update\n",
    "        self.prev_biases1_update = biases1_update\n",
    "        self.prev_weights2_update = weights2_update\n",
    "        self.prev_biases2_update = biases2_update\n",
    "   \n",
    "    def batch_gradient_descent(self, X, y):\n",
    "        self.forward(X)\n",
    "        self.backward(X, y)\n",
    "        self.update(y)\n",
    "        self.print_mse(X, y)\n",
    "\n",
    "    def mini_batch_gradient_descent(self, X, y, batch_size):\n",
    "        num_samples = X.shape[0]\n",
    "        num_batches = int(np.ceil(num_samples / batch_size))\n",
    "        indices = np.random.permutation(num_samples)\n",
    "        X = X[indices]\n",
    "        y = y[indices]\n",
    "        \n",
    "        for i in range(num_batches):\n",
    "            start = i * batch_size\n",
    "            end = min((i + 1) * batch_size, num_samples)\n",
    "            \n",
    "            X_batch = X[start:end]\n",
    "            y_batch = y[start:end]\n",
    "            \n",
    "            y_pred = self.forward(X_batch)\n",
    "            self.backward(X_batch, y_batch)\n",
    "            self.update(y_batch)\n",
    "\n",
    "        self.print_mse(X, y)\n",
    "\n",
    "    def stochastic_gradient_descent(self, X,y):\n",
    "        self.mini_batch_gradient_descent(X, y, 1)\n"
   ]
  },
  {
   "cell_type": "code",
   "execution_count": null,
   "metadata": {},
   "outputs": [
    {
     "ename": "ImportError",
     "evalue": "\n`load_boston` has been removed from scikit-learn since version 1.2.\n\nThe Boston housing prices dataset has an ethical problem: as\ninvestigated in [1], the authors of this dataset engineered a\nnon-invertible variable \"B\" assuming that racial self-segregation had a\npositive impact on house prices [2]. Furthermore the goal of the\nresearch that led to the creation of this dataset was to study the\nimpact of air quality but it did not give adequate demonstration of the\nvalidity of this assumption.\n\nThe scikit-learn maintainers therefore strongly discourage the use of\nthis dataset unless the purpose of the code is to study and educate\nabout ethical issues in data science and machine learning.\n\nIn this special case, you can fetch the dataset from the original\nsource::\n\n    import pandas as pd\n    import numpy as np\n\n    data_url = \"http://lib.stat.cmu.edu/datasets/boston\"\n    raw_df = pd.read_csv(data_url, sep=\"\\s+\", skiprows=22, header=None)\n    data = np.hstack([raw_df.values[::2, :], raw_df.values[1::2, :2]])\n    target = raw_df.values[1::2, 2]\n\nAlternative datasets include the California housing dataset and the\nAmes housing dataset. You can load the datasets as follows::\n\n    from sklearn.datasets import fetch_california_housing\n    housing = fetch_california_housing()\n\nfor the California housing dataset and::\n\n    from sklearn.datasets import fetch_openml\n    housing = fetch_openml(name=\"house_prices\", as_frame=True)\n\nfor the Ames housing dataset.\n\n[1] M Carlisle.\n\"Racist data destruction?\"\n<https://medium.com/@docintangible/racist-data-destruction-113e3eff54a8>\n\n[2] Harrison Jr, David, and Daniel L. Rubinfeld.\n\"Hedonic housing prices and the demand for clean air.\"\nJournal of environmental economics and management 5.1 (1978): 81-102.\n<https://www.researchgate.net/publication/4974606_Hedonic_housing_prices_and_the_demand_for_clean_air>\n",
     "output_type": "error",
     "traceback": [
      "\u001b[0;31m---------------------------------------------------------------------------\u001b[0m",
      "\u001b[0;31mImportError\u001b[0m                               Traceback (most recent call last)",
      "Cell \u001b[0;32mIn[3], line 1\u001b[0m\n\u001b[0;32m----> 1\u001b[0m X \u001b[39m=\u001b[39m datasets\u001b[39m.\u001b[39;49mload_boston()[\u001b[39m'\u001b[39m\u001b[39mdata\u001b[39m\u001b[39m'\u001b[39m]\n\u001b[1;32m      2\u001b[0m y \u001b[39m=\u001b[39m datasets\u001b[39m.\u001b[39mload_boston()[\u001b[39m'\u001b[39m\u001b[39mtarget\u001b[39m\u001b[39m'\u001b[39m]\n\u001b[1;32m      3\u001b[0m X_train, X_test, y_train, y_test \u001b[39m=\u001b[39m train_test_split(X, y, test_size\u001b[39m=\u001b[39m\u001b[39m0.2\u001b[39m, random_state\u001b[39m=\u001b[39m\u001b[39m42\u001b[39m)\n",
      "File \u001b[0;32m~/.pyenv/versions/3.8.16/envs/test_env/lib/python3.8/site-packages/sklearn/datasets/__init__.py:156\u001b[0m, in \u001b[0;36m__getattr__\u001b[0;34m(name)\u001b[0m\n\u001b[1;32m    105\u001b[0m \u001b[39mif\u001b[39;00m name \u001b[39m==\u001b[39m \u001b[39m\"\u001b[39m\u001b[39mload_boston\u001b[39m\u001b[39m\"\u001b[39m:\n\u001b[1;32m    106\u001b[0m     msg \u001b[39m=\u001b[39m textwrap\u001b[39m.\u001b[39mdedent(\n\u001b[1;32m    107\u001b[0m \u001b[39m        \u001b[39m\u001b[39m\"\"\"\u001b[39;00m\n\u001b[1;32m    108\u001b[0m \u001b[39m        `load_boston` has been removed from scikit-learn since version 1.2.\u001b[39;00m\n\u001b[0;32m   (...)\u001b[0m\n\u001b[1;32m    154\u001b[0m \u001b[39m        \"\"\"\u001b[39;00m\n\u001b[1;32m    155\u001b[0m     )\n\u001b[0;32m--> 156\u001b[0m     \u001b[39mraise\u001b[39;00m \u001b[39mImportError\u001b[39;00m(msg)\n\u001b[1;32m    157\u001b[0m \u001b[39mtry\u001b[39;00m:\n\u001b[1;32m    158\u001b[0m     \u001b[39mreturn\u001b[39;00m \u001b[39mglobals\u001b[39m()[name]\n",
      "\u001b[0;31mImportError\u001b[0m: \n`load_boston` has been removed from scikit-learn since version 1.2.\n\nThe Boston housing prices dataset has an ethical problem: as\ninvestigated in [1], the authors of this dataset engineered a\nnon-invertible variable \"B\" assuming that racial self-segregation had a\npositive impact on house prices [2]. Furthermore the goal of the\nresearch that led to the creation of this dataset was to study the\nimpact of air quality but it did not give adequate demonstration of the\nvalidity of this assumption.\n\nThe scikit-learn maintainers therefore strongly discourage the use of\nthis dataset unless the purpose of the code is to study and educate\nabout ethical issues in data science and machine learning.\n\nIn this special case, you can fetch the dataset from the original\nsource::\n\n    import pandas as pd\n    import numpy as np\n\n    data_url = \"http://lib.stat.cmu.edu/datasets/boston\"\n    raw_df = pd.read_csv(data_url, sep=\"\\s+\", skiprows=22, header=None)\n    data = np.hstack([raw_df.values[::2, :], raw_df.values[1::2, :2]])\n    target = raw_df.values[1::2, 2]\n\nAlternative datasets include the California housing dataset and the\nAmes housing dataset. You can load the datasets as follows::\n\n    from sklearn.datasets import fetch_california_housing\n    housing = fetch_california_housing()\n\nfor the California housing dataset and::\n\n    from sklearn.datasets import fetch_openml\n    housing = fetch_openml(name=\"house_prices\", as_frame=True)\n\nfor the Ames housing dataset.\n\n[1] M Carlisle.\n\"Racist data destruction?\"\n<https://medium.com/@docintangible/racist-data-destruction-113e3eff54a8>\n\n[2] Harrison Jr, David, and Daniel L. Rubinfeld.\n\"Hedonic housing prices and the demand for clean air.\"\nJournal of environmental economics and management 5.1 (1978): 81-102.\n<https://www.researchgate.net/publication/4974606_Hedonic_housing_prices_and_the_demand_for_clean_air>\n"
     ]
    }
   ],
   "source": [
    "X = datasets.load_boston()['data']\n",
    "y = datasets.load_boston()['target']\n",
    "X_train, X_test, y_train, y_test = train_test_split(X, y, test_size=0.2, random_state=42)\n",
    "scaler = StandardScaler()\n",
    "X_train = scaler.fit_transform(X_train)\n",
    "X_test = scaler.transform(X_test)"
   ]
  },
  {
   "cell_type": "code",
   "execution_count": null,
   "metadata": {},
   "outputs": [],
   "source": [
    "self = NeuralNetwork(input_size = X_train.shape[1], hidden_size = 50, output_size = 1, learning_rate = 0.001)\n",
    "for _ in range(100):\n",
    "    self.batch_gradient_descent(X_train, y_train)\n",
    "\n",
    "print(\"Test Results\")\n",
    "self.print_mse(X_test, y_test)"
   ]
  },
  {
   "cell_type": "code",
   "execution_count": null,
   "metadata": {},
   "outputs": [],
   "source": [
    "self = NeuralNetwork(input_size = X_train.shape[1], hidden_size = 50, output_size = 1, learning_rate = 0.001)\n",
    "for _ in range(10):\n",
    "    self.mini_batch_gradient_descent(X_train, y_train, batch_size = 32)\n",
    "\n",
    "print(\"Test Results\")\n",
    "self.print_mse(X_test, y_test)"
   ]
  },
  {
   "cell_type": "code",
   "execution_count": null,
   "metadata": {},
   "outputs": [],
   "source": [
    "self = NeuralNetwork(input_size = X_train.shape[1], hidden_size = 50, output_size = 1, learning_rate = 0.001)\n",
    "for _ in range(10):\n",
    "    self.stochastic_gradient_descent(X_train, y_train)\n",
    "    \n",
    "print(\"Test Results\")\n",
    "self.print_mse(X_test, y_test)"
   ]
  },
  {
   "cell_type": "code",
   "execution_count": null,
   "metadata": {},
   "outputs": [],
   "source": []
  }
 ],
 "metadata": {
  "kernelspec": {
   "display_name": "Python 3.8.5 ('base')",
   "language": "python",
   "name": "python3"
  },
  "language_info": {
   "codemirror_mode": {
    "name": "ipython",
    "version": 3
   },
   "file_extension": ".py",
   "mimetype": "text/x-python",
   "name": "python",
   "nbconvert_exporter": "python",
   "pygments_lexer": "ipython3",
   "version": "3.8.16"
  },
  "orig_nbformat": 4,
  "vscode": {
   "interpreter": {
    "hash": "9c2396ee008e4910c299ae7134fa9bf09084771bab5830620999247b4a514b46"
   }
  }
 },
 "nbformat": 4,
 "nbformat_minor": 2
}
