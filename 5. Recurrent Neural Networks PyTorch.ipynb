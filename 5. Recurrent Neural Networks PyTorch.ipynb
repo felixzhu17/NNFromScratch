{
 "cells": [
  {
   "cell_type": "code",
   "execution_count": 1,
   "metadata": {},
   "outputs": [
    {
     "name": "stderr",
     "output_type": "stream",
     "text": [
      "c:\\Users\\zhufe\\anaconda3\\lib\\site-packages\\numpy\\_distributor_init.py:30: UserWarning: loaded more than 1 DLL from .libs:\n",
      "c:\\Users\\zhufe\\anaconda3\\lib\\site-packages\\numpy\\.libs\\libopenblas.EL2C6PLE4ZYW3ECEVIV3OXXGRN2NRFM2.gfortran-win_amd64.dll\n",
      "c:\\Users\\zhufe\\anaconda3\\lib\\site-packages\\numpy\\.libs\\libopenblas.GK7GX5KEQ4F6UYO3P26ULGBQYHGQO7J4.gfortran-win_amd64.dll\n",
      "c:\\Users\\zhufe\\anaconda3\\lib\\site-packages\\numpy\\.libs\\libopenblas.WCDJNK7YVMPZQ2ME2ZZHJJRJ3JIKNDB7.gfortran-win_amd64.dll\n",
      "  warnings.warn(\"loaded more than 1 DLL from .libs:\"\n"
     ]
    }
   ],
   "source": [
    "import torch\n",
    "import torch.nn as nn\n",
    "\n",
    "import numpy as np\n",
    "import pandas as pd\n",
    "from sklearn.preprocessing import MinMaxScaler"
   ]
  },
  {
   "cell_type": "code",
   "execution_count": 2,
   "metadata": {},
   "outputs": [],
   "source": [
    "class RecurrentNeuralNetwork(nn.Module):\n",
    "    def __init__(self, input_size, hidden_size, output_size, learning_rate=0.001):\n",
    "        super(RecurrentNeuralNetwork, self).__init__()\n",
    "        self.input_size = input_size\n",
    "        self.hidden_size = hidden_size\n",
    "        self.output_size = output_size\n",
    "\n",
    "        self.Wx = nn.Parameter(torch.randn(hidden_size, input_size) * torch.sqrt(torch.tensor(2.0 / (input_size + hidden_size))))\n",
    "        self.Wh = nn.Parameter(torch.randn(hidden_size, hidden_size) * torch.sqrt(torch.tensor(1.0 / hidden_size)))\n",
    "        self.Wy = nn.Parameter(torch.randn(output_size, hidden_size) * torch.sqrt(torch.tensor(2.0 / (hidden_size + output_size))))\n",
    "        self.bh = nn.Parameter(torch.zeros(hidden_size, 1))\n",
    "        self.by = nn.Parameter(torch.zeros(output_size, 1))\n",
    "\n",
    "        self.learning_rate = learning_rate\n",
    "        self.sigmoid = nn.Sigmoid()\n",
    "        self.tanh = nn.Tanh()\n",
    "        self.mse_loss = nn.MSELoss()\n",
    "        \n",
    "    def forward(self, x):\n",
    "        h_prev = torch.zeros(self.hidden_size, 1)\n",
    "        self.y_pred, self.h_hist = [], [h_prev]\n",
    "\n",
    "        for t in range(len(x)):\n",
    "            h_t = self.tanh(self.Wx @ x[t].view(-1, 1) + self.Wh @ h_prev + self.bh)\n",
    "            y_t = self.sigmoid(self.Wy @ h_t + self.by)\n",
    "            self.y_pred.append(y_t)\n",
    "            self.h_hist.append(h_t)\n",
    "            h_prev = h_t\n",
    "        return self.y_pred\n",
    "\n",
    "    def print_mse(self, X, y):\n",
    "        y_pred = torch.cat(self.forward(X)).view(-1)\n",
    "        mse = self.mse_loss(y.view(-1), y_pred)\n",
    "        print(f\"MSE: {mse.item()}\")\n",
    "\n",
    "    def backward(self, x, y):\n",
    "        optimizer = torch.optim.SGD(self.parameters(), lr=self.learning_rate)\n",
    "        optimizer.zero_grad()\n",
    "\n",
    "        y_pred = self.forward(x)\n",
    "        y_pred_tensor = torch.cat(y_pred).view(-1)\n",
    "        loss = self.mse_loss(y.view(-1), y_pred_tensor)\n",
    "        loss.backward()\n",
    "        optimizer.step()\n"
   ]
  },
  {
   "cell_type": "code",
   "execution_count": 3,
   "metadata": {},
   "outputs": [],
   "source": [
    "# Parameter split_percent defines the ratio of training examples\n",
    "def get_train_test(url, split_percent=0.8):\n",
    "    df = pd.read_csv(url, usecols=[1], engine='python')\n",
    "    data = np.array(df.values.astype('float32'))\n",
    "    scaler = MinMaxScaler(feature_range=(0, 1))\n",
    "    data = scaler.fit_transform(data).flatten()\n",
    "    n = len(data)\n",
    "    # Point for splitting data into train and test\n",
    "    split = int(n*split_percent)\n",
    "    train_data = data[range(split)]\n",
    "    test_data = data[split:]\n",
    "    return train_data, test_data, data\n",
    " \n",
    "sunspots_url = 'https://raw.githubusercontent.com/jbrownlee/Datasets/master/monthly-sunspots.csv'\n",
    "train_data, test_data, data = get_train_test(sunspots_url)"
   ]
  },
  {
   "cell_type": "code",
   "execution_count": 4,
   "metadata": {},
   "outputs": [],
   "source": [
    "input_size, hidden_size, output_size = 1, 5, 1\n",
    "self = RecurrentNeuralNetwork(input_size, hidden_size, output_size)"
   ]
  },
  {
   "cell_type": "code",
   "execution_count": 5,
   "metadata": {},
   "outputs": [],
   "source": [
    "x = torch.tensor(train_data[:-1])  # Input data\n",
    "y = torch.tensor(train_data[1:])  # Target data"
   ]
  },
  {
   "cell_type": "code",
   "execution_count": 7,
   "metadata": {},
   "outputs": [
    {
     "name": "stdout",
     "output_type": "stream",
     "text": [
      "MSE: 0.11539042741060257\n",
      "MSE: 0.1110578253865242\n",
      "MSE: 0.10689526796340942\n",
      "MSE: 0.10303846746683121\n",
      "MSE: 0.09956854581832886\n",
      "MSE: 0.09650582820177078\n",
      "MSE: 0.09382680803537369\n",
      "MSE: 0.09148649871349335\n",
      "MSE: 0.08943492919206619\n",
      "MSE: 0.08762546628713608\n"
     ]
    }
   ],
   "source": [
    "for _ in range(10):\n",
    "    self.forward(x)\n",
    "    self.backward(x, y)\n",
    "    self.print_mse(x,y)"
   ]
  },
  {
   "cell_type": "code",
   "execution_count": 44,
   "metadata": {},
   "outputs": [],
   "source": [
    "import torch\n",
    "import torch.nn as nn\n",
    "\n",
    "class RecurrentNeuralNetwork(nn.Module):\n",
    "    def __init__(self, input_size, hidden_size, output_size, learning_rate=0.1):\n",
    "        super(RecurrentNeuralNetwork, self).__init__()\n",
    "        self.input_size = input_size\n",
    "        self.hidden_size = hidden_size\n",
    "        self.output_size = output_size\n",
    "\n",
    "        self.rnn = nn.RNN(input_size, hidden_size, batch_first=True)\n",
    "        self.fc = nn.Linear(hidden_size, output_size)\n",
    "        self.sigmoid = nn.Sigmoid()\n",
    "\n",
    "        self.learning_rate = learning_rate\n",
    "        self.mse_loss = nn.MSELoss()\n",
    "\n",
    "    def forward(self, x):\n",
    "        h0 = torch.zeros(1, x.size(0), self.hidden_size)\n",
    "        out, _ = self.rnn(x, h0)\n",
    "        y_pred = self.sigmoid(self.fc(out))\n",
    "        return out\n",
    "\n",
    "    def print_mse(self, X, y):\n",
    "        y_pred = self.forward(X)\n",
    "        mse = self.mse_loss(y, y_pred)\n",
    "        print(f\"MSE: {mse.item()}\")\n",
    "\n",
    "    def backward(self, x, y):\n",
    "        optimizer = torch.optim.SGD(self.parameters(), lr=self.learning_rate)\n",
    "        optimizer.zero_grad()\n",
    "\n",
    "        y_pred = self.forward(x)\n",
    "        loss = self.mse_loss(y, y_pred)\n",
    "        loss.backward()\n",
    "        optimizer.step()\n"
   ]
  },
  {
   "cell_type": "code",
   "execution_count": 45,
   "metadata": {},
   "outputs": [],
   "source": [
    "input_size, hidden_size, output_size = 1, 5, 1\n",
    "self = RecurrentNeuralNetwork(input_size, hidden_size, output_size)"
   ]
  },
  {
   "cell_type": "code",
   "execution_count": 46,
   "metadata": {},
   "outputs": [],
   "source": [
    "torch_x = x.view(1, 2255, 1)\n",
    "torch_y = y.view(1, 2255, 1)"
   ]
  },
  {
   "cell_type": "code",
   "execution_count": 48,
   "metadata": {},
   "outputs": [
    {
     "name": "stdout",
     "output_type": "stream",
     "text": [
      "MSE: 0.0653841644525528\n",
      "MSE: 0.058179743587970734\n",
      "MSE: 0.05234533175826073\n",
      "MSE: 0.04756656289100647\n",
      "MSE: 0.0436125248670578\n",
      "MSE: 0.040310878306627274\n",
      "MSE: 0.037531137466430664\n",
      "MSE: 0.03517318144440651\n",
      "MSE: 0.03315925970673561\n",
      "MSE: 0.03142833709716797\n"
     ]
    }
   ],
   "source": [
    "for _ in range(10):\n",
    "    self.forward(torch_x)\n",
    "    self.backward(torch_x, torch_y)\n",
    "    self.print_mse(torch_x, torch_y)"
   ]
  },
  {
   "cell_type": "code",
   "execution_count": null,
   "metadata": {},
   "outputs": [],
   "source": []
  }
 ],
 "metadata": {
  "kernelspec": {
   "display_name": "Python 3.8.5 ('base')",
   "language": "python",
   "name": "python3"
  },
  "language_info": {
   "codemirror_mode": {
    "name": "ipython",
    "version": 3
   },
   "file_extension": ".py",
   "mimetype": "text/x-python",
   "name": "python",
   "nbconvert_exporter": "python",
   "pygments_lexer": "ipython3",
   "version": "3.8.5"
  },
  "orig_nbformat": 4,
  "vscode": {
   "interpreter": {
    "hash": "9c2396ee008e4910c299ae7134fa9bf09084771bab5830620999247b4a514b46"
   }
  }
 },
 "nbformat": 4,
 "nbformat_minor": 2
}
