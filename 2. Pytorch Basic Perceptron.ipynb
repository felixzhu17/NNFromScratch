{
 "cells": [
  {
   "cell_type": "code",
   "execution_count": 1,
   "metadata": {},
   "outputs": [
    {
     "name": "stderr",
     "output_type": "stream",
     "text": [
      "c:\\Users\\zhufe\\anaconda3\\lib\\site-packages\\numpy\\_distributor_init.py:30: UserWarning: loaded more than 1 DLL from .libs:\n",
      "c:\\Users\\zhufe\\anaconda3\\lib\\site-packages\\numpy\\.libs\\libopenblas.EL2C6PLE4ZYW3ECEVIV3OXXGRN2NRFM2.gfortran-win_amd64.dll\n",
      "c:\\Users\\zhufe\\anaconda3\\lib\\site-packages\\numpy\\.libs\\libopenblas.GK7GX5KEQ4F6UYO3P26ULGBQYHGQO7J4.gfortran-win_amd64.dll\n",
      "c:\\Users\\zhufe\\anaconda3\\lib\\site-packages\\numpy\\.libs\\libopenblas.WCDJNK7YVMPZQ2ME2ZZHJJRJ3JIKNDB7.gfortran-win_amd64.dll\n",
      "  warnings.warn(\"loaded more than 1 DLL from .libs:\"\n"
     ]
    }
   ],
   "source": [
    "import torch\n",
    "from models.data_loader import *\n",
    "from models.basic_net import *\n",
    "from models.train import *"
   ]
  },
  {
   "cell_type": "code",
   "execution_count": 2,
   "metadata": {},
   "outputs": [],
   "source": [
    "train_data, test_data, loss_fn = get_tabular_train_test_dataloader(batch_size=256)"
   ]
  },
  {
   "cell_type": "code",
   "execution_count": 3,
   "metadata": {},
   "outputs": [],
   "source": [
    "input_shape = next(iter(train_data))[0].shape[1]\n",
    "hidden_shape = 50\n",
    "output_shape = 1"
   ]
  },
  {
   "cell_type": "code",
   "execution_count": 4,
   "metadata": {},
   "outputs": [],
   "source": [
    "model = BasicPerceptronScratch(input_shape, hidden_shape, output_shape)\n",
    "optimizer = torch.optim.SGD(model.parameters(), lr=0.01, weight_decay=0.01)\n",
    "quick_prop = QuickProp(model.parameters(), lr=0.01)"
   ]
  },
  {
   "cell_type": "code",
   "execution_count": 5,
   "metadata": {},
   "outputs": [
    {
     "name": "stdout",
     "output_type": "stream",
     "text": [
      "548.0169067382812\n"
     ]
    }
   ],
   "source": [
    "model.eval()\n",
    "for x, y in test_data:\n",
    "    print(loss_fn(model(x), y).item())"
   ]
  },
  {
   "cell_type": "code",
   "execution_count": 6,
   "metadata": {},
   "outputs": [
    {
     "name": "stdout",
     "output_type": "stream",
     "text": [
      "952.1554870605469\n",
      "73.22723007202148\n",
      "57.709150314331055\n",
      "55.992881774902344\n",
      "47.71613121032715\n",
      "46.16029930114746\n",
      "45.237173080444336\n",
      "43.557735443115234\n",
      "43.58347511291504\n",
      "41.183815002441406\n",
      "41.204063415527344\n",
      "41.81895065307617\n",
      "42.484344482421875\n",
      "40.11533164978027\n",
      "39.13747978210449\n",
      "38.7981071472168\n",
      "42.124393463134766\n",
      "39.933006286621094\n",
      "41.36501121520996\n",
      "39.840898513793945\n"
     ]
    }
   ],
   "source": [
    "model.train()\n",
    "train(loss_fn, optimizer, model, train_data)\n",
    "train(loss_fn, quick_prop, model, train_data)"
   ]
  },
  {
   "cell_type": "code",
   "execution_count": 7,
   "metadata": {},
   "outputs": [
    {
     "name": "stdout",
     "output_type": "stream",
     "text": [
      "21.181568145751953\n"
     ]
    }
   ],
   "source": [
    "model.eval()\n",
    "for x, y in test_data:\n",
    "    print(loss_fn(model(x), y).item())"
   ]
  },
  {
   "cell_type": "code",
   "execution_count": 9,
   "metadata": {},
   "outputs": [
    {
     "name": "stdout",
     "output_type": "stream",
     "text": [
      "814.7127227783203\n",
      "156.55274963378906\n",
      "144.75725555419922\n",
      "126.96537017822266\n",
      "103.29204559326172\n",
      "96.60401153564453\n",
      "76.06560325622559\n",
      "58.16455841064453\n",
      "48.55092430114746\n",
      "43.11414337158203\n"
     ]
    }
   ],
   "source": [
    "model = ResNetBasicPerceptron(input_shape, hidden_shape, output_shape)\n",
    "optimizer = torch.optim.SGD(model.parameters(), lr=0.01, weight_decay=0.01)\n",
    "train(loss_fn, optimizer, model, train_data)"
   ]
  },
  {
   "cell_type": "code",
   "execution_count": null,
   "metadata": {},
   "outputs": [],
   "source": []
  }
 ],
 "metadata": {
  "kernelspec": {
   "display_name": "Python 3.8.5 ('base')",
   "language": "python",
   "name": "python3"
  },
  "language_info": {
   "codemirror_mode": {
    "name": "ipython",
    "version": 3
   },
   "file_extension": ".py",
   "mimetype": "text/x-python",
   "name": "python",
   "nbconvert_exporter": "python",
   "pygments_lexer": "ipython3",
   "version": "3.8.5"
  },
  "orig_nbformat": 4,
  "vscode": {
   "interpreter": {
    "hash": "9c2396ee008e4910c299ae7134fa9bf09084771bab5830620999247b4a514b46"
   }
  }
 },
 "nbformat": 4,
 "nbformat_minor": 2
}
