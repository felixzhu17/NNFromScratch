{
 "cells": [
  {
   "cell_type": "code",
   "execution_count": null,
   "metadata": {},
   "outputs": [],
   "source": [
    "import torch\n",
    "import torch.nn as nn\n",
    "\n",
    "import numpy as np\n",
    "import pandas as pd\n",
    "from sklearn.preprocessing import MinMaxScaler"
   ]
  },
  {
   "cell_type": "code",
   "execution_count": null,
   "metadata": {},
   "outputs": [],
   "source": [
    "class BiDirectionalRecurrentNetwork(nn.Module):\n",
    "    def __init__(self, input_size, hidden_size, output_size, learning_rate=0.1):\n",
    "        super(BiDirectionalRecurrentNetwork, self).__init__()\n",
    "        self.input_size = input_size\n",
    "        self.hidden_size = hidden_size\n",
    "        self.output_size = output_size\n",
    "\n",
    "        self.Wx_forward = nn.Parameter(torch.randn(hidden_size, input_size) * torch.sqrt(torch.tensor(2.0 / (input_size + hidden_size))))\n",
    "        self.Wh_forward = nn.Parameter(torch.randn(hidden_size, hidden_size) * torch.sqrt(torch.tensor(1.0 / hidden_size)))\n",
    "        self.bh_forward = nn.Parameter(torch.zeros(hidden_size, 1))\n",
    "\n",
    "        self.Wx_backward = nn.Parameter(torch.randn(hidden_size, input_size) * torch.sqrt(torch.tensor(2.0 / (input_size + hidden_size))))\n",
    "        self.Wh_backward = nn.Parameter(torch.randn(hidden_size, hidden_size) * torch.sqrt(torch.tensor(1.0 / hidden_size)))\n",
    "        self.bh_backward = nn.Parameter(torch.zeros(hidden_size, 1))\n",
    "\n",
    "        self.Wy_forward = nn.Parameter(torch.randn(output_size, hidden_size) * torch.sqrt(torch.tensor(2.0 / (hidden_size + output_size))))\n",
    "        self.Wy_backward = nn.Parameter(torch.randn(output_size, hidden_size) * torch.sqrt(torch.tensor(2.0 / (hidden_size + output_size))))\n",
    "        self.by = nn.Parameter(torch.zeros(output_size, 1))\n",
    "\n",
    "        self.learning_rate = learning_rate\n",
    "        self.sigmoid = nn.Sigmoid()\n",
    "        self.tanh = nn.Tanh()\n",
    "        self.mse_loss = nn.MSELoss()\n",
    "        \n",
    "    def forward(self, x):\n",
    "        self.h_forward_hist = [torch.zeros(self.hidden_size, 1)]\n",
    "        for t in range(len(x)):\n",
    "            x_t = x[t].view(-1, 1)\n",
    "            h_forward_t_1 = self.h_forward_hist[-1]\n",
    "            h_forward_t = self.tanh(self.Wx_forward @ x_t + self.Wh_forward @ h_forward_t_1 + self.bh_forward)\n",
    "            self.h_forward_hist.append(h_forward_t)\n",
    "        self.h_forward_hist = self.h_forward_hist[1:]\n",
    "        \n",
    "        self.h_backward_hist = [torch.zeros(self.hidden_size, 1)]\n",
    "        for t in reversed(range(len(x))):\n",
    "            x_t = x[t].view(-1, 1)\n",
    "            h_backward_t_1 = self.h_backward_hist[-1]\n",
    "            h_forward_t = self.tanh(self.Wx_backward @ x[t].view(-1, 1) + self.Wh_backward @ h_backward_t_1 + self.bh_backward)\n",
    "            self.h_backward_hist.append(h_forward_t)\n",
    "        self.h_backward_hist = self.h_backward_hist[1:][::-1]\n",
    "        \n",
    "        self.y_pred = [self.sigmoid(self.Wy_forward @ h_forward_t + self.Wy_backward @ h_backward_t + self.by) for h_forward_t, h_backward_t in zip(self.h_forward_hist, self.h_backward_hist)]\n",
    "        return self.y_pred\n",
    "\n",
    "    def print_mse(self, X, y):\n",
    "        y_pred = torch.cat(self.forward(X)).view(-1)\n",
    "        mse = self.mse_loss(y.view(-1), y_pred)\n",
    "        print(f\"MSE: {mse.item()}\")\n",
    "\n",
    "    def backward(self, x, y):\n",
    "        optimizer = torch.optim.SGD(self.parameters(), lr=self.learning_rate)\n",
    "        optimizer.zero_grad()\n",
    "\n",
    "        y_pred = self.forward(x)\n",
    "        y_pred_tensor = torch.cat(y_pred).view(-1)\n",
    "        loss = self.mse_loss(y.view(-1), y_pred_tensor)\n",
    "        loss.backward()\n",
    "        optimizer.step()\n"
   ]
  },
  {
   "cell_type": "code",
   "execution_count": null,
   "metadata": {},
   "outputs": [],
   "source": [
    "# Parameter split_percent defines the ratio of training examples\n",
    "def get_train_test(url, split_percent=0.8):\n",
    "    df = pd.read_csv(url, usecols=[1], engine='python')\n",
    "    data = np.array(df.values.astype('float32'))\n",
    "    scaler = MinMaxScaler(feature_range=(0, 1))\n",
    "    data = scaler.fit_transform(data).flatten()\n",
    "    n = len(data)\n",
    "    # Point for splitting data into train and test\n",
    "    split = int(n*split_percent)\n",
    "    train_data = data[range(split)]\n",
    "    test_data = data[split:]\n",
    "    return train_data, test_data, data\n",
    " \n",
    "sunspots_url = 'https://raw.githubusercontent.com/jbrownlee/Datasets/master/monthly-sunspots.csv'\n",
    "train_data, test_data, data = get_train_test(sunspots_url)"
   ]
  },
  {
   "cell_type": "code",
   "execution_count": null,
   "metadata": {},
   "outputs": [],
   "source": [
    "input_size, hidden_size, output_size = 1, 5, 1\n",
    "self = BiDirectionalRecurrentNetwork(input_size, hidden_size, output_size)"
   ]
  },
  {
   "cell_type": "code",
   "execution_count": null,
   "metadata": {},
   "outputs": [],
   "source": [
    "x = torch.tensor(train_data[:-1])  # Input data\n",
    "y = torch.tensor(train_data[1:])  # Target data"
   ]
  },
  {
   "cell_type": "code",
   "execution_count": null,
   "metadata": {},
   "outputs": [],
   "source": [
    "for _ in range(10):\n",
    "    self.forward(x)\n",
    "    self.backward(x, y)\n",
    "    self.print_mse(x,y)"
   ]
  },
  {
   "cell_type": "code",
   "execution_count": null,
   "metadata": {},
   "outputs": [],
   "source": []
  }
 ],
 "metadata": {
  "kernelspec": {
   "display_name": "Python 3.8.5 ('base')",
   "language": "python",
   "name": "python3"
  },
  "language_info": {
   "codemirror_mode": {
    "name": "ipython",
    "version": 3
   },
   "file_extension": ".py",
   "mimetype": "text/x-python",
   "name": "python",
   "nbconvert_exporter": "python",
   "pygments_lexer": "ipython3",
   "version": "3.8.5"
  },
  "orig_nbformat": 4,
  "vscode": {
   "interpreter": {
    "hash": "9c2396ee008e4910c299ae7134fa9bf09084771bab5830620999247b4a514b46"
   }
  }
 },
 "nbformat": 4,
 "nbformat_minor": 2
}
